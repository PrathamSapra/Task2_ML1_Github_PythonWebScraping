{
 "cells": [
  {
   "cell_type": "code",
   "execution_count": 33,
   "id": "551ac1d7-fede-4bd8-8719-73cb4f586f3f",
   "metadata": {},
   "outputs": [],
   "source": [
    "#PRATHAM SAPRA STUDENT ID: 101572630\n",
    "# Cell 1: Importing Required Libraries\n",
    "import os\n",
    "import requests\n",
    "import re\n",
    "from bs4 import BeautifulSoup\n",
    "import sys\n"
   ]
  },
  {
   "cell_type": "code",
   "execution_count": 29,
   "id": "6f5b5b27-0eca-4963-bda9-e82cd7d62fff",
   "metadata": {},
   "outputs": [],
   "source": [
    "def get_page():\n",
    "    global url\n",
    "    url = input(\"Enter URL of a Medium article: \")\n",
    "    if not re.match(r'https?://medium.com/', url):\n",
    "        print('Please enter a valid website, or make sure it is a Medium article')\n",
    "        sys.exit(1)\n",
    "    res = requests.get(url)\n",
    "    res.raise_for_status()\n",
    "    soup = BeautifulSoup(res.text, 'html.parser')\n",
    "    return soup\n",
    "\n",
    "def clean(text):\n",
    "    # Use raw string (r'...') to avoid invalid escape sequence warnings\n",
    "    rep = {\"<br>\": \"\\n\", \"<br/>\": \"\\n\", \"<li>\": \"\\n\"}\n",
    "    rep = dict((re.escape(k), v) for k, v in rep.items())\n",
    "    pattern = re.compile(\"|\".join(rep.keys()))\n",
    "    text = pattern.sub(lambda m: rep[re.escape(m.group(0))], text)\n",
    "    text = re.sub(r'<(.*?)>', '', text)  # Use raw string for regex pattern\n",
    "    return text\n",
    "\n",
    "def collect_text(soup):\n",
    "    text = f'URL: {url}\\n\\n'\n",
    "    para_text = soup.find_all('p')\n",
    "    for para in para_text:\n",
    "        text += f\"{para.text}\\n\\n\"\n",
    "    return text\n",
    "\n",
    "def save_file(text):\n",
    "    if not os.path.exists('./scraped_articles'):\n",
    "        os.mkdir('./scraped_articles')\n",
    "    name = url.split(\"/\")[-1]\n",
    "    fname = f'scraped_articles/{name}.txt'\n",
    "    with open(fname, 'w', encoding='utf-8') as file:\n",
    "        file.write(text)\n",
    "    print(f'File saved in directory {fname}')"
   ]
  },
  {
   "cell_type": "code",
   "execution_count": 31,
   "id": "ba6db2d2-2d85-4bef-8f4f-ec1e7b51b49f",
   "metadata": {},
   "outputs": [
    {
     "name": "stdin",
     "output_type": "stream",
     "text": [
      "Enter URL of a Medium article:  https://medium.com/@subashgandyer/papa-what-is-a-neural-network-c5e5cc427c7\n"
     ]
    },
    {
     "name": "stdout",
     "output_type": "stream",
     "text": [
      "File saved in directory scraped_articles/papa-what-is-a-neural-network-c5e5cc427c7.txt\n"
     ]
    }
   ],
   "source": [
    "# Cell 3: Main Execution\n",
    "if __name__ == '__main__':\n",
    "    text = collect_text(get_page())\n",
    "    save_file(text)\n"
   ]
  },
  {
   "cell_type": "code",
   "execution_count": null,
   "id": "96b24e4e-e30b-44f1-9778-4c60ceb43f9b",
   "metadata": {},
   "outputs": [],
   "source": []
  }
 ],
 "metadata": {
  "kernelspec": {
   "display_name": "Python 3 (ipykernel)",
   "language": "python",
   "name": "python3"
  },
  "language_info": {
   "codemirror_mode": {
    "name": "ipython",
    "version": 3
   },
   "file_extension": ".py",
   "mimetype": "text/x-python",
   "name": "python",
   "nbconvert_exporter": "python",
   "pygments_lexer": "ipython3",
   "version": "3.12.4"
  }
 },
 "nbformat": 4,
 "nbformat_minor": 5
}
